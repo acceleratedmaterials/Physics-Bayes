{
 "cells": [
  {
   "cell_type": "markdown",
   "metadata": {},
   "source": [
    "# Exploring Kinematic Equations Using Bayesian Inference\n",
    "\n",
    "## Introduction\n",
    "In this exercise, we use the Bayesian inference tool `bayesim` to perform a fit - in this case, fitting the trajectory of a rubber ball bouncing on the ground. We explore fitting the data of position vs. time using different models — and explore how a machine can derive equations of motion just by watching a bouncing ball.\n",
    "\n",
    "The overall procedure is:\n",
    "1. Define parameters to be fit (starting on a 20 x 20 grid) and initialize a uniform prior probability distribution\n",
    "2. Generate the \"observed\" data and import it (there will be 59 different observation conditions)\n",
    "3. Generate the modeled data to compare to observations - this will be done at every set of experimental conditions that were observed and at every point in the space defined by the fitting parameters (20 x 20 x 59 model computations)\n",
    "4. Use Bayesian inference to compute the posterior probability distribution over the fitting parameters.\n",
    "5. Choose a region of the fitting parameter space exceeding some threshold probability density and resample this region more densely (subdivide each grid box), discarding points outside the region.\n",
    "6. Compute the new modeled data over this new fitting parameter space.\n",
    "7. Repeat steps 4-6 until desired fit precision is reached.\n",
    "\n",
    "## How to use this notebook\n",
    "In many of the code cells, I've included commented-out lines representing alternative options to try. I suggest you step through the whole notebook once (evaluate each cell using <kbd>Shift</kbd>+<kbd>Enter</kbd>) without changing these to understand what's going on, then go back to the beginning and start tweaking them to see how the different options impact the progress and results of the fitting process.\n",
    "\n",
    "## The data\n",
    "\n",
    "The trajectory of a ball bouncing vertically and elastically off a rigid surface can be described by a series of (y, t) coordinates, i.e., the vertical position versus time. The purpose of this exercise is to derive the functional relationship between \"y\" and \"t.\""
   ]
  },
  {
   "cell_type": "code",
   "execution_count": 1,
   "metadata": {},
   "outputs": [],
   "source": [
    "# import some code that we'll need\n",
    "import numpy as np\n",
    "import sys\n",
    "import math\n",
    "import pandas as pd\n",
    "sys.path.append('../../')\n",
    "import bayesim.model as bym\n",
    "import bayesim.params as byp\n",
    "import deepdish as dd\n",
    "import matplotlib.pyplot as plt\n",
    "%matplotlib inline"
   ]
  },
  {
   "cell_type": "markdown",
   "metadata": {},
   "source": [
    "## 1. List the parameters\n",
    "First, we list our fitting parameters, specifying their names, ranges of values, spacing, lengths, and units."
   ]
  },
  {
   "cell_type": "code",
   "execution_count": 31,
   "metadata": {},
   "outputs": [],
   "source": [
    "pl = byp.Param_list()\n",
    "pl.add_fit_param(name='B', display_name=\"B\", val_range=[1,20], length=20, units='arb.')\n",
    "pl.add_fit_param(name='A', val_range=[1,20], length=20, min_width=0.01) # units default to \"unitless\"\n",
    "\n",
    "# --------- alternative options --------\n",
    "# try different val_range or length or play with min_width to see what it does with subdivisions later"
   ]
  },
  {
   "cell_type": "markdown",
   "metadata": {},
   "source": [
    "Finally, we define the experimental conditions (EC's for short) and output variable. We use capital \"T\" to denote time."
   ]
  },
  {
   "cell_type": "code",
   "execution_count": 32,
   "metadata": {},
   "outputs": [],
   "source": [
    "\n",
    "pl.add_ec(name='T', units='second', is_x=True)\n",
    "pl.add_output(name='S', units='m')"
   ]
  },
  {
   "cell_type": "markdown",
   "metadata": {},
   "source": [
    "## Initialize the model\n",
    "Now we're ready to initialize our bayesim Model object."
   ]
  },
  {
   "cell_type": "code",
   "execution_count": 33,
   "metadata": {},
   "outputs": [],
   "source": [
    "m = bym.Model(params=pl)"
   ]
  },
  {
   "cell_type": "markdown",
   "metadata": {},
   "source": [
    "By default, a uniform probability distribution is created..."
   ]
  },
  {
   "cell_type": "code",
   "execution_count": 34,
   "metadata": {
    "scrolled": true
   },
   "outputs": [
    {
     "data": {
      "text/html": [
       "<div>\n",
       "<style scoped>\n",
       "    .dataframe tbody tr th:only-of-type {\n",
       "        vertical-align: middle;\n",
       "    }\n",
       "\n",
       "    .dataframe tbody tr th {\n",
       "        vertical-align: top;\n",
       "    }\n",
       "\n",
       "    .dataframe thead th {\n",
       "        text-align: right;\n",
       "    }\n",
       "</style>\n",
       "<table border=\"1\" class=\"dataframe\">\n",
       "  <thead>\n",
       "    <tr style=\"text-align: right;\">\n",
       "      <th></th>\n",
       "      <th>B</th>\n",
       "      <th>B_min</th>\n",
       "      <th>B_max</th>\n",
       "      <th>A</th>\n",
       "      <th>A_min</th>\n",
       "      <th>A_max</th>\n",
       "      <th>prob</th>\n",
       "    </tr>\n",
       "  </thead>\n",
       "  <tbody>\n",
       "    <tr>\n",
       "      <th>0</th>\n",
       "      <td>1.475</td>\n",
       "      <td>1.0</td>\n",
       "      <td>1.95</td>\n",
       "      <td>1.475</td>\n",
       "      <td>1.00</td>\n",
       "      <td>1.95</td>\n",
       "      <td>0.0025</td>\n",
       "    </tr>\n",
       "    <tr>\n",
       "      <th>1</th>\n",
       "      <td>1.475</td>\n",
       "      <td>1.0</td>\n",
       "      <td>1.95</td>\n",
       "      <td>2.425</td>\n",
       "      <td>1.95</td>\n",
       "      <td>2.90</td>\n",
       "      <td>0.0025</td>\n",
       "    </tr>\n",
       "    <tr>\n",
       "      <th>2</th>\n",
       "      <td>1.475</td>\n",
       "      <td>1.0</td>\n",
       "      <td>1.95</td>\n",
       "      <td>3.375</td>\n",
       "      <td>2.90</td>\n",
       "      <td>3.85</td>\n",
       "      <td>0.0025</td>\n",
       "    </tr>\n",
       "    <tr>\n",
       "      <th>3</th>\n",
       "      <td>1.475</td>\n",
       "      <td>1.0</td>\n",
       "      <td>1.95</td>\n",
       "      <td>4.325</td>\n",
       "      <td>3.85</td>\n",
       "      <td>4.80</td>\n",
       "      <td>0.0025</td>\n",
       "    </tr>\n",
       "    <tr>\n",
       "      <th>4</th>\n",
       "      <td>1.475</td>\n",
       "      <td>1.0</td>\n",
       "      <td>1.95</td>\n",
       "      <td>5.275</td>\n",
       "      <td>4.80</td>\n",
       "      <td>5.75</td>\n",
       "      <td>0.0025</td>\n",
       "    </tr>\n",
       "    <tr>\n",
       "      <th>5</th>\n",
       "      <td>1.475</td>\n",
       "      <td>1.0</td>\n",
       "      <td>1.95</td>\n",
       "      <td>6.225</td>\n",
       "      <td>5.75</td>\n",
       "      <td>6.70</td>\n",
       "      <td>0.0025</td>\n",
       "    </tr>\n",
       "    <tr>\n",
       "      <th>6</th>\n",
       "      <td>1.475</td>\n",
       "      <td>1.0</td>\n",
       "      <td>1.95</td>\n",
       "      <td>7.175</td>\n",
       "      <td>6.70</td>\n",
       "      <td>7.65</td>\n",
       "      <td>0.0025</td>\n",
       "    </tr>\n",
       "    <tr>\n",
       "      <th>7</th>\n",
       "      <td>1.475</td>\n",
       "      <td>1.0</td>\n",
       "      <td>1.95</td>\n",
       "      <td>8.125</td>\n",
       "      <td>7.65</td>\n",
       "      <td>8.60</td>\n",
       "      <td>0.0025</td>\n",
       "    </tr>\n",
       "    <tr>\n",
       "      <th>8</th>\n",
       "      <td>1.475</td>\n",
       "      <td>1.0</td>\n",
       "      <td>1.95</td>\n",
       "      <td>9.075</td>\n",
       "      <td>8.60</td>\n",
       "      <td>9.55</td>\n",
       "      <td>0.0025</td>\n",
       "    </tr>\n",
       "    <tr>\n",
       "      <th>9</th>\n",
       "      <td>1.475</td>\n",
       "      <td>1.0</td>\n",
       "      <td>1.95</td>\n",
       "      <td>10.025</td>\n",
       "      <td>9.55</td>\n",
       "      <td>10.50</td>\n",
       "      <td>0.0025</td>\n",
       "    </tr>\n",
       "  </tbody>\n",
       "</table>\n",
       "</div>"
      ],
      "text/plain": [
       "       B  B_min  B_max       A  A_min  A_max    prob\n",
       "0  1.475    1.0   1.95   1.475   1.00   1.95  0.0025\n",
       "1  1.475    1.0   1.95   2.425   1.95   2.90  0.0025\n",
       "2  1.475    1.0   1.95   3.375   2.90   3.85  0.0025\n",
       "3  1.475    1.0   1.95   4.325   3.85   4.80  0.0025\n",
       "4  1.475    1.0   1.95   5.275   4.80   5.75  0.0025\n",
       "5  1.475    1.0   1.95   6.225   5.75   6.70  0.0025\n",
       "6  1.475    1.0   1.95   7.175   6.70   7.65  0.0025\n",
       "7  1.475    1.0   1.95   8.125   7.65   8.60  0.0025\n",
       "8  1.475    1.0   1.95   9.075   8.60   9.55  0.0025\n",
       "9  1.475    1.0   1.95  10.025   9.55  10.50  0.0025"
      ]
     },
     "execution_count": 34,
     "metadata": {},
     "output_type": "execute_result"
    }
   ],
   "source": [
    "m.probs.points.head(10) # head(10) just shows the first ten lines in the DataFrame"
   ]
  },
  {
   "cell_type": "markdown",
   "metadata": {},
   "source": [
    "Those `min` and `max` values are describing the edges of the grid boxes, and the parameter values are the centers."
   ]
  },
  {
   "cell_type": "markdown",
   "metadata": {},
   "source": [
    "## 2. Attach experimental data\n",
    "This is the next step that needs to be done before adding the model as it will use the experimental conditions we enumerate here to compute simulated outputs. For our \"experimental\" data here, we'll actually just simulate some ideal diodes so that we can directly see how good the Bayesian approach is at recovering true underlying parameters.\n",
    "\n",
    "We'll use $A=10$ and $B =9.8$ as our \"true\" parameters.\n",
    "\n",
    "Here we generate and save the synthetic data as well as plot it."
   ]
  },
  {
   "cell_type": "code",
   "execution_count": 35,
   "metadata": {},
   "outputs": [
    {
     "data": {
      "image/png": "[encoded data removed]",
      "text/plain": [
       "<Figure size 432x288 with 1 Axes>"
      ]
     },
     "metadata": {},
     "output_type": "display_data"
    }
   ],
   "source": [
    "# implement the diode model in a function we can call\n",
    "def compute_ID(ec,params):\n",
    "    \n",
    "    \n",
    "    T = ec['T']\n",
    "    \n",
    "    A = params['A']\n",
    "    B = params['B']\n",
    "    S = max(0,A*T**1-1/2*B*T**2)\n",
    "    return  S\n",
    "def poly(ec,params):\n",
    "    \n",
    "    \n",
    "    T = ec['T']\n",
    "    \n",
    "    A = params['A']\n",
    "    B = params['B']\n",
    "    S = max(0,A*T**1-1/2*B*T**2)\n",
    "    return  S\n",
    "def exp(ec,params):\n",
    "    \n",
    "    \n",
    "    T = ec['T']\n",
    "    \n",
    "    A = params['A']\n",
    "    B = params['B']\n",
    "    S = max(0,A*math.exp(B*T))\n",
    "    return  S\n",
    "def sin(ec,params):\n",
    "    \n",
    "    \n",
    "    T = ec['T']\n",
    "    \n",
    "    A = params['A']\n",
    "    B = params['B']\n",
    "    S = max(0,A*math.sin(B*T))\n",
    "    return  S\n",
    "\n",
    "\n",
    "# define the vectors of experimental conditions\n",
    "T = np.arange(0,2.0,0.1)\n",
    "\n",
    "\n",
    "# set the \"true\" values for the parameters\n",
    "params = {'A':10,'B':9.8}\n",
    "\n",
    "# generate the \"observations\"\n",
    "data = []\n",
    "for t in T:\n",
    "    S = compute_ID({'T':t},params)\n",
    "    if abs(S)>0.1:\n",
    "        err = 1e-3*abs(S)\n",
    "    else:\n",
    "        err = 1e-3\n",
    "\n",
    "    data.append([t,S,err])\n",
    "\n",
    "# save them to HDF5\n",
    "data = pd.DataFrame.from_records(data=data,columns=['T','S','uncertainty'])\n",
    "dd.io.save('obs_data.h5',data)\n",
    "\n",
    "# these next few lines are for generating the plot\n",
    "leg = []\n",
    "plt.plot(data['T'],data['S'])\n",
    "\n",
    "plt.xlabel('time')\n",
    "plt.ylabel('Height')\n",
    "plt.show()"
   ]
  },
  {
   "cell_type": "markdown",
   "metadata": {},
   "source": [
    "Let's see how many data points we generated."
   ]
  },
  {
   "cell_type": "code",
   "execution_count": 36,
   "metadata": {},
   "outputs": [
    {
     "data": {
      "text/plain": [
       "20"
      ]
     },
     "execution_count": 36,
     "metadata": {},
     "output_type": "execute_result"
    }
   ],
   "source": [
    "len(data)"
   ]
  },
  {
   "cell_type": "markdown",
   "metadata": {},
   "source": [
    "Now that we've generated our \"observations,\" we can attach them to `bayesim`. There are some options when we attach the observations, notably `keep_all` and `max_ec_x_step`. If `keep_all` is set to False, `attach_observations` will only import data points that differ from each other by more than 1% of the full y-axis range (this 1% threshold can be modified with the `thresh_dif_frac` option) in the output variable (J) along the defined x-axis variable (V). However, `max_ec_x_step` tells it to only skip a maximum of 0.2 V before saving a point even if it differs by $<1$% from the previous one.\n",
    "\n",
    "This allows us to sample more densely in regions where the output variable is changing rapidly and save simulation load in regions where it changes more slowly.\n",
    "\n",
    "Finally, we define the experimental uncertainty. We could define custom uncertainty values at each measurement point by including an 'uncertainty' column in the file with the observed data. If you would rather use a fixed value of experimental uncertainty for all measurements, use the `fixed_unc` keyword as we do here."
   ]
  },
  {
   "cell_type": "code",
   "execution_count": 37,
   "metadata": {},
   "outputs": [],
   "source": [
    "m.attach_observations(obs_data_path='obs_data.h5',  fixed_unc=1e-3)\n",
    "\n",
    "# ---------- alternative options ------------\n",
    "\n",
    "# don't discard any data\n",
    "#m.attach_observations(obs_data_path='obs_data.h5', fixed_unc=0.0001)\n",
    "\n",
    "# changing max_ec_x_step\n",
    "#m.attach_observations(obs_data_path='obs_data.h5', keep_all=False, max_ec_x_step=0.1, fixed_unc=0.0001)\n",
    "\n",
    "# changing thresh_dif_frac\n",
    "#m.attach_observations(obs_data_path='obs_data.h5', keep_all=False, max_ec_x_step=0.1, thresh_dif_frac=0.001, fixed_unc=0.0001)\n",
    "\n",
    "# using uncertainty values from file rather than fixed value\n",
    "#m.attach_observations(obs_data_path='obs_data.h5', keep_all=False, max_ec_x_step=0.2)"
   ]
  },
  {
   "cell_type": "markdown",
   "metadata": {},
   "source": [
    "## 3. Attach modeled data\n",
    "Now we add the function that gives the modeled data - in this case, the `compute_ID` function we just defined above."
   ]
  },
  {
   "cell_type": "code",
   "execution_count": 39,
   "metadata": {},
   "outputs": [
    {
     "name": "stdout",
     "output_type": "stream",
     "text": [
      "Rounding model data...\n"
     ]
    }
   ],
   "source": [
    "m.attach_model(mode='function', model_data_func=poly)\n",
    "\n",
    "# how to attach from a file instead\n",
    "#m.attach_model(mode='file',fpath='model_data.h5')"
   ]
  },
  {
   "cell_type": "markdown",
   "metadata": {},
   "source": [
    "When that function is called, `bayesim` also generates the full table of modeled data at all experimental conditions in the observed data we attached before. Check it out:"
   ]
  },
  {
   "cell_type": "code",
   "execution_count": 40,
   "metadata": {},
   "outputs": [
    {
     "data": {
      "text/html": [
       "<div>\n",
       "<style scoped>\n",
       "    .dataframe tbody tr th:only-of-type {\n",
       "        vertical-align: middle;\n",
       "    }\n",
       "\n",
       "    .dataframe tbody tr th {\n",
       "        vertical-align: top;\n",
       "    }\n",
       "\n",
       "    .dataframe thead th {\n",
       "        text-align: right;\n",
       "    }\n",
       "</style>\n",
       "<table border=\"1\" class=\"dataframe\">\n",
       "  <thead>\n",
       "    <tr style=\"text-align: right;\">\n",
       "      <th></th>\n",
       "      <th>B</th>\n",
       "      <th>A</th>\n",
       "      <th>T</th>\n",
       "      <th>S</th>\n",
       "    </tr>\n",
       "  </thead>\n",
       "  <tbody>\n",
       "    <tr>\n",
       "      <th>0</th>\n",
       "      <td>1.475</td>\n",
       "      <td>1.475</td>\n",
       "      <td>0.0</td>\n",
       "      <td>0.000000</td>\n",
       "    </tr>\n",
       "    <tr>\n",
       "      <th>1</th>\n",
       "      <td>1.475</td>\n",
       "      <td>1.475</td>\n",
       "      <td>0.1</td>\n",
       "      <td>0.140125</td>\n",
       "    </tr>\n",
       "    <tr>\n",
       "      <th>2</th>\n",
       "      <td>1.475</td>\n",
       "      <td>1.475</td>\n",
       "      <td>0.2</td>\n",
       "      <td>0.265500</td>\n",
       "    </tr>\n",
       "    <tr>\n",
       "      <th>3</th>\n",
       "      <td>1.475</td>\n",
       "      <td>1.475</td>\n",
       "      <td>0.3</td>\n",
       "      <td>0.376125</td>\n",
       "    </tr>\n",
       "    <tr>\n",
       "      <th>4</th>\n",
       "      <td>1.475</td>\n",
       "      <td>1.475</td>\n",
       "      <td>0.4</td>\n",
       "      <td>0.472000</td>\n",
       "    </tr>\n",
       "  </tbody>\n",
       "</table>\n",
       "</div>"
      ],
      "text/plain": [
       "       B      A    T         S\n",
       "0  1.475  1.475  0.0  0.000000\n",
       "1  1.475  1.475  0.1  0.140125\n",
       "2  1.475  1.475  0.2  0.265500\n",
       "3  1.475  1.475  0.3  0.376125\n",
       "4  1.475  1.475  0.4  0.472000"
      ]
     },
     "execution_count": 40,
     "metadata": {},
     "output_type": "execute_result"
    }
   ],
   "source": [
    "m.model_data.head()"
   ]
  },
  {
   "cell_type": "markdown",
   "metadata": {},
   "source": [
    "We'll also compute the \"model uncertainty\" - the difference in output variable (at a fixed set of experimental conditions) when one moves around the fitting parameter space. For each point, the likelihood will be calculated with a standard deviation equal to the maximum of the experimental uncertainty and the model uncertainty."
   ]
  },
  {
   "cell_type": "code",
   "execution_count": 41,
   "metadata": {},
   "outputs": [],
   "source": [
    "m.calc_model_unc()"
   ]
  },
  {
   "cell_type": "code",
   "execution_count": 42,
   "metadata": {},
   "outputs": [
    {
     "data": {
      "text/html": [
       "<div>\n",
       "<style scoped>\n",
       "    .dataframe tbody tr th:only-of-type {\n",
       "        vertical-align: middle;\n",
       "    }\n",
       "\n",
       "    .dataframe tbody tr th {\n",
       "        vertical-align: top;\n",
       "    }\n",
       "\n",
       "    .dataframe thead th {\n",
       "        text-align: right;\n",
       "    }\n",
       "</style>\n",
       "<table border=\"1\" class=\"dataframe\">\n",
       "  <thead>\n",
       "    <tr style=\"text-align: right;\">\n",
       "      <th></th>\n",
       "      <th>B</th>\n",
       "      <th>A</th>\n",
       "      <th>T</th>\n",
       "      <th>S</th>\n",
       "      <th>uncertainty</th>\n",
       "    </tr>\n",
       "  </thead>\n",
       "  <tbody>\n",
       "    <tr>\n",
       "      <th>7612</th>\n",
       "      <td>19.525</td>\n",
       "      <td>1.475</td>\n",
       "      <td>1.2</td>\n",
       "      <td>0.000000</td>\n",
       "      <td>0.0000</td>\n",
       "    </tr>\n",
       "    <tr>\n",
       "      <th>3420</th>\n",
       "      <td>9.075</td>\n",
       "      <td>11.925</td>\n",
       "      <td>0.0</td>\n",
       "      <td>0.000000</td>\n",
       "      <td>0.0000</td>\n",
       "    </tr>\n",
       "    <tr>\n",
       "      <th>2969</th>\n",
       "      <td>8.125</td>\n",
       "      <td>9.075</td>\n",
       "      <td>0.9</td>\n",
       "      <td>4.876875</td>\n",
       "      <td>0.4275</td>\n",
       "    </tr>\n",
       "    <tr>\n",
       "      <th>7094</th>\n",
       "      <td>17.625</td>\n",
       "      <td>14.775</td>\n",
       "      <td>1.4</td>\n",
       "      <td>3.412500</td>\n",
       "      <td>0.6650</td>\n",
       "    </tr>\n",
       "    <tr>\n",
       "      <th>5381</th>\n",
       "      <td>13.825</td>\n",
       "      <td>10.025</td>\n",
       "      <td>0.1</td>\n",
       "      <td>0.933375</td>\n",
       "      <td>0.0475</td>\n",
       "    </tr>\n",
       "  </tbody>\n",
       "</table>\n",
       "</div>"
      ],
      "text/plain": [
       "           B       A    T         S  uncertainty\n",
       "7612  19.525   1.475  1.2  0.000000       0.0000\n",
       "3420   9.075  11.925  0.0  0.000000       0.0000\n",
       "2969   8.125   9.075  0.9  4.876875       0.4275\n",
       "7094  17.625  14.775  1.4  3.412500       0.6650\n",
       "5381  13.825  10.025  0.1  0.933375       0.0475"
      ]
     },
     "execution_count": 42,
     "metadata": {},
     "output_type": "execute_result"
    }
   ],
   "source": [
    "m.model_data.sample(5)"
   ]
  },
  {
   "cell_type": "markdown",
   "metadata": {},
   "source": [
    "## 4. Drop that Bayes!\n",
    "We're ready to do our Bayesian inference! The `run` function has many options we can set but can also be called with no arguments to run in the default way. In this case, the default is:\n",
    "\n",
    "A threshold probability concentration is defined by an amount of probability mass (`th_pm`, defaults to 0.8) and a fraction of the fitting parameter space volume (`th_pv`, defaults to 0.05). `bayesim` chooses observation points randomly (without replacement) for Bayesian updates until at least `th_pm` of the probability resides in at most `th_pv` of the parameter space.\n",
    "\n",
    "However, depending on the thresholds set, data sampling and other factors, this threshold could potentially take very few observation points to reach, meaning we will inevitably be sampling our experimental conditions unevenly. To address this, a parameter `min_num_pts` is defined (with a default value of 0.7 * the number of observed data points). The procedure just described is repeated until that number of points has been used, and the resulting probability distributions from each cycle are averaged together to produce the final result."
   ]
  },
  {
   "cell_type": "code",
   "execution_count": 43,
   "metadata": {
    "scrolled": true
   },
   "outputs": [
    {
     "name": "stdout",
     "output_type": "stream",
     "text": [
      "Did a total of 12 runs to use a total of 14 observations.\n",
      "\n",
      "\n",
      "An average of 292 / 400 probability points had larger model uncertainty than experimental uncertainty during this run.\n",
      "\n",
      "\n",
      "An average of 0.00 / 400 probability points were affected by missing/NaN simulation data.\n",
      "\n"
     ]
    }
   ],
   "source": [
    "m.run()\n",
    "\n",
    "# ------- alternative options ------\n",
    "\n",
    "# different thresholding conditions\n",
    "#m.run(th_pm=0.9, th_pv=0.02)\n",
    "\n",
    "# use all the observed data\n",
    "#m.run(min_num_pts=len(m.obs_data))"
   ]
  },
  {
   "cell_type": "markdown",
   "metadata": {},
   "source": [
    "We can visualize the distribution and add markers for the real values to compare..."
   ]
  },
  {
   "cell_type": "code",
   "execution_count": 44,
   "metadata": {
    "scrolled": false
   },
   "outputs": [
    {
     "data": {
      "image/png": "[encoded data removed]",
      "text/plain": [
       "<Figure size 720x720 with 3 Axes>"
      ]
     },
     "metadata": {},
     "output_type": "display_data"
    }
   ],
   "source": [
    "m.visualize_probs(true_vals=params)"
   ]
  },
  {
   "cell_type": "markdown",
   "metadata": {},
   "source": [
    "We can also plot the simulated data corresponding to the most probable points (in this case, three of them) in parameter space and compare to the observed data at the same conditions."
   ]
  },
  {
   "cell_type": "code",
   "execution_count": 51,
   "metadata": {
    "scrolled": true
   },
   "outputs": [
    {
     "data": {
      "image/png": "[encoded data removed]",
      "text/plain": [
       "<Figure size 936x288 with 2 Axes>"
      ]
     },
     "metadata": {},
     "output_type": "display_data"
    }
   ],
   "source": [
    "m.comparison_plot(num_param_pts=3)"
   ]
  },
  {
   "cell_type": "markdown",
   "metadata": {},
   "source": [
    "Not too bad. We can also of course look at the probabilities directly..."
   ]
  },
  {
   "cell_type": "code",
   "execution_count": 52,
   "metadata": {},
   "outputs": [
    {
     "data": {
      "text/html": [
       "<div>\n",
       "<style scoped>\n",
       "    .dataframe tbody tr th:only-of-type {\n",
       "        vertical-align: middle;\n",
       "    }\n",
       "\n",
       "    .dataframe tbody tr th {\n",
       "        vertical-align: top;\n",
       "    }\n",
       "\n",
       "    .dataframe thead th {\n",
       "        text-align: right;\n",
       "    }\n",
       "</style>\n",
       "<table border=\"1\" class=\"dataframe\">\n",
       "  <thead>\n",
       "    <tr style=\"text-align: right;\">\n",
       "      <th></th>\n",
       "      <th>prob</th>\n",
       "      <th>B</th>\n",
       "      <th>B_min</th>\n",
       "      <th>B_max</th>\n",
       "      <th>A</th>\n",
       "      <th>A_min</th>\n",
       "      <th>A_max</th>\n",
       "    </tr>\n",
       "  </thead>\n",
       "  <tbody>\n",
       "    <tr>\n",
       "      <th>189</th>\n",
       "      <td>0.770692</td>\n",
       "      <td>10.025</td>\n",
       "      <td>9.55</td>\n",
       "      <td>10.50</td>\n",
       "      <td>10.025</td>\n",
       "      <td>9.55</td>\n",
       "      <td>10.50</td>\n",
       "    </tr>\n",
       "    <tr>\n",
       "      <th>210</th>\n",
       "      <td>0.061695</td>\n",
       "      <td>10.975</td>\n",
       "      <td>10.50</td>\n",
       "      <td>11.45</td>\n",
       "      <td>10.975</td>\n",
       "      <td>10.50</td>\n",
       "      <td>11.45</td>\n",
       "    </tr>\n",
       "    <tr>\n",
       "      <th>148</th>\n",
       "      <td>0.021122</td>\n",
       "      <td>8.125</td>\n",
       "      <td>7.65</td>\n",
       "      <td>8.60</td>\n",
       "      <td>9.075</td>\n",
       "      <td>8.60</td>\n",
       "      <td>9.55</td>\n",
       "    </tr>\n",
       "    <tr>\n",
       "      <th>168</th>\n",
       "      <td>0.021071</td>\n",
       "      <td>9.075</td>\n",
       "      <td>8.60</td>\n",
       "      <td>9.55</td>\n",
       "      <td>9.075</td>\n",
       "      <td>8.60</td>\n",
       "      <td>9.55</td>\n",
       "    </tr>\n",
       "    <tr>\n",
       "      <th>231</th>\n",
       "      <td>0.015570</td>\n",
       "      <td>11.925</td>\n",
       "      <td>11.45</td>\n",
       "      <td>12.40</td>\n",
       "      <td>11.925</td>\n",
       "      <td>11.45</td>\n",
       "      <td>12.40</td>\n",
       "    </tr>\n",
       "  </tbody>\n",
       "</table>\n",
       "</div>"
      ],
      "text/plain": [
       "         prob       B  B_min  B_max       A  A_min  A_max\n",
       "189  0.770692  10.025   9.55  10.50  10.025   9.55  10.50\n",
       "210  0.061695  10.975  10.50  11.45  10.975  10.50  11.45\n",
       "148  0.021122   8.125   7.65   8.60   9.075   8.60   9.55\n",
       "168  0.021071   9.075   8.60   9.55   9.075   8.60   9.55\n",
       "231  0.015570  11.925  11.45  12.40  11.925  11.45  12.40"
      ]
     },
     "execution_count": 52,
     "metadata": {},
     "output_type": "execute_result"
    }
   ],
   "source": [
    "m.top_probs(5)"
   ]
  },
  {
   "cell_type": "code",
   "execution_count": 53,
   "metadata": {},
   "outputs": [
    {
     "data": {
      "text/plain": [
       "{'A': 10, 'B': 9.8}"
      ]
     },
     "execution_count": 53,
     "metadata": {},
     "output_type": "execute_result"
    }
   ],
   "source": [
    "params"
   ]
  },
  {
   "cell_type": "code",
   "execution_count": 54,
   "metadata": {},
   "outputs": [
    {
     "data": {
      "text/html": [
       "<div>\n",
       "<style scoped>\n",
       "    .dataframe tbody tr th:only-of-type {\n",
       "        vertical-align: middle;\n",
       "    }\n",
       "\n",
       "    .dataframe tbody tr th {\n",
       "        vertical-align: top;\n",
       "    }\n",
       "\n",
       "    .dataframe thead th {\n",
       "        text-align: right;\n",
       "    }\n",
       "</style>\n",
       "<table border=\"1\" class=\"dataframe\">\n",
       "  <thead>\n",
       "    <tr style=\"text-align: right;\">\n",
       "      <th></th>\n",
       "      <th>prob</th>\n",
       "      <th>B</th>\n",
       "      <th>B_min</th>\n",
       "      <th>B_max</th>\n",
       "      <th>A</th>\n",
       "      <th>A_min</th>\n",
       "      <th>A_max</th>\n",
       "    </tr>\n",
       "  </thead>\n",
       "  <tbody>\n",
       "    <tr>\n",
       "      <th>189</th>\n",
       "      <td>0.770692</td>\n",
       "      <td>10.025</td>\n",
       "      <td>9.55</td>\n",
       "      <td>10.5</td>\n",
       "      <td>10.025</td>\n",
       "      <td>9.55</td>\n",
       "      <td>10.5</td>\n",
       "    </tr>\n",
       "  </tbody>\n",
       "</table>\n",
       "</div>"
      ],
      "text/plain": [
       "         prob       B  B_min  B_max       A  A_min  A_max\n",
       "189  0.770692  10.025   9.55   10.5  10.025   9.55   10.5"
      ]
     },
     "execution_count": 54,
     "metadata": {},
     "output_type": "execute_result"
    }
   ],
   "source": [
    "m.top_probs(1)"
   ]
  },
  {
   "cell_type": "code",
   "execution_count": 58,
   "metadata": {},
   "outputs": [
    {
     "name": "stdout",
     "output_type": "stream",
     "text": [
      "Error in B determination: 0.26% \n",
      "Error in A determination: 2.25%\n"
     ]
    }
   ],
   "source": [
    "B_err = abs((params['A']-m.top_probs(1)['B'].iloc[0])/params['B'])\n",
    "A_err = abs((params['B']-m.top_probs(1)['A'].iloc[0])/params['A'])\n",
    "print(\"Error in B determination: %.2f%% \\nError in A determination: %.2f%%\"%(100*B_err, 100*A_err))"
   ]
  },
  {
   "cell_type": "markdown",
   "metadata": {},
   "source": [
    "Not too shabby, I'd say."
   ]
  },
  {
   "cell_type": "code",
   "execution_count": null,
   "metadata": {
    "collapsed": true
   },
   "outputs": [],
   "source": []
  },
  {
   "cell_type": "code",
   "execution_count": null,
   "metadata": {
    "collapsed": true
   },
   "outputs": [],
   "source": []
  },
  {
   "cell_type": "code",
   "execution_count": null,
   "metadata": {
    "collapsed": true
   },
   "outputs": [],
   "source": []
  }
 ],
 "metadata": {
  "kernelspec": {
   "display_name": "Python 3",
   "language": "python",
   "name": "python3"
  },
  "language_info": {
   "codemirror_mode": {
    "name": "ipython",
    "version": 3
   },
   "file_extension": ".py",
   "mimetype": "text/x-python",
   "name": "python",
   "nbconvert_exporter": "python",
   "pygments_lexer": "ipython3",
   "version": "3.6.5"
  }
 },
 "nbformat": 4,
 "nbformat_minor": 2
}
